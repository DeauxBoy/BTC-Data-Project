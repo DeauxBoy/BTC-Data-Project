{
 "cells": [
  {
   "cell_type": "code",
   "execution_count": null,
   "id": "ef461606-4a2e-4e43-a471-6cbc99cc5fb5",
   "metadata": {},
   "outputs": [],
   "source": [
    "#Import Modules etc..."
   ]
  },
  {
   "cell_type": "code",
   "execution_count": null,
   "id": "2d35d0e1-0f5d-44ee-a409-1f426cde5603",
   "metadata": {},
   "outputs": [],
   "source": [
    "#Import csv file"
   ]
  },
  {
   "cell_type": "code",
   "execution_count": null,
   "id": "c173465d-c96a-48fe-bdde-e31a8df58c07",
   "metadata": {},
   "outputs": [],
   "source": [
    "#organise data set\n",
    "#display.head()"
   ]
  },
  {
   "cell_type": "code",
   "execution_count": null,
   "id": "52e5f960-0a9d-45ff-b06a-8b3b60285215",
   "metadata": {},
   "outputs": [],
   "source": [
    "#Isolate Columns [Times etc...]"
   ]
  },
  {
   "cell_type": "code",
   "execution_count": null,
   "id": "b3754a90-fe02-4ac7-8e1f-e22c78d730f8",
   "metadata": {},
   "outputs": [],
   "source": [
    "#Descriptive stats on Price & Volume [Table Data - mean/median/mode]\n",
    "\n",
    "#Price against time (Line)\n",
    "\n",
    "#Volume against time (Time Series Bar Chart)\n",
    "\n",
    "#Regression Price (y) against volume (x) (Test stastistical signifigcane of volume on price)"
   ]
  },
  {
   "cell_type": "code",
   "execution_count": null,
   "id": "8dc3bffb-a1b1-4401-ab7a-0cb105d0d61d",
   "metadata": {
    "tags": []
   },
   "outputs": [],
   "source": [
    "#Create For Loop\n",
    "\n",
    " #Identify Weekend times [loop through different times over weekend to test trades]\n",
    "        \n",
    "    #Identify weekend Open = short trade entry \n",
    "    #Identify weekend Close = short trade exit \n",
    "    #Calcluate return = [short trade entry + short trade exit]\n",
    "    \n",
    "    #Convert unix time stamp to AWST time\n",
    "    \n",
    "#Compile info in data frame\n",
    "\n",
    "   #Summary Statsitics\n",
    "    #Visualisation\n",
    "    #Regression\n",
    "    \n",
    "    #Create for loop\n",
    "    \n",
    "        #identify most profitable trading time period\n",
    "        #identify lease profitiablr trade tme period\n",
    "\n",
    "#open interest data [If we can find?] - API/CSV?  FUNDING RATES ON FUTURES CONTRACTS/OPEN INTEREST\n",
    "\n",
    "    #Regressions\n",
    "    #price/funding"
   ]
  },
  {
   "cell_type": "code",
   "execution_count": null,
   "id": "d66958b5-11a0-427e-9b75-e7104125fb36",
   "metadata": {},
   "outputs": [],
   "source": [
    "#NOTE\n",
    "\n",
    "#Loop to find weekends\n",
    "\n",
    "    #Then loop through trade on and off times within weekend"
   ]
  },
  {
   "cell_type": "code",
   "execution_count": null,
   "id": "b2688bd2-d5bc-42db-a7dc-ea7ff7a3ea89",
   "metadata": {},
   "outputs": [],
   "source": [
    "#Week Specific Analysis\n",
    "\n",
    "    #Long weekends "
   ]
  },
  {
   "cell_type": "code",
   "execution_count": null,
   "id": "48ea0108-cac9-4a35-99ca-641a5aa2c14f",
   "metadata": {},
   "outputs": [],
   "source": [
    "# Target Audience for presentation/analysis\n",
    "    \n",
    "    #Who are we pitching\n",
    "    \n",
    "        #Institutional/Fund Manager\n",
    "        #Understanding of basic trading concepts/strategies"
   ]
  },
  {
   "cell_type": "markdown",
   "id": "7457f2f1-0c86-43ca-af4e-256e2230f882",
   "metadata": {},
   "source": [
    "Trade On Times\n",
    "\n",
    "FRIDAY\t6.00\n",
    "FRIDAY\t7.00\n",
    "FRIDAY\t8.00\n",
    "FRIDAY\t9.00\n",
    "FRIDAY\t10.00\n",
    "FRIDAY\t11.00\n",
    "FRIDAY\t12.00\n",
    "FRIDAY\t13.00\n",
    "FRIDAY\t14.00\n",
    "FRIDAY\t15.00\n",
    "FRIDAY\t16.00\n",
    "FRIDAY\t17.00\n",
    "FRIDAY\t18.00\n",
    "FRIDAY\t19.00\n",
    "FRIDAY\t20.00\n",
    "FRIDAY\t21.00\n",
    "FRIDAY\t22.00\n",
    "FRIDAY\t23.00\n",
    "SATURDAY\t0.00\n",
    "SATURDAY\t1.00\n",
    "SATURDAY\t2.00\n",
    "SATURDAY\t3.00\n",
    "SATURDAY\t4.00\n",
    "SATURDAY\t5.00\n",
    "SATURDAY\t6.00\n",
    "SATURDAY\t7.00\n",
    "SATURDAY\t8.00\n",
    "SATURDAY\t9.00\n",
    "SATURDAY\t10.00\n",
    "SATURDAY\t11.00\n",
    "SATURDAY\t12.00\n",
    "SATURDAY\t13.00\n",
    "SATURDAY\t14.00\n",
    "SATURDAY\t15.00\n",
    "SATURDAY\t16.00\n",
    "SATURDAY\t17.00\n",
    "SATURDAY\t18.00\n",
    "SATURDAY\t19.00\n",
    "SATURDAY\t20.00\n",
    "SATURDAY\t21.00\n",
    "SATURDAY\t22.00\n",
    "SATURDAY\t23.00\n",
    "\t\n",
    "TRADE OFF Times\n",
    "\n",
    "SUNDAY\t0.00\n",
    "SUNDAY\t1.00\n",
    "SUNDAY\t2.00\n",
    "SUNDAY\t3.00\n",
    "SUNDAY\t4.00\n",
    "SUNDAY\t5.00\n",
    "SUNDAY\t6.00\n",
    "SUNDAY\t7.00\n",
    "SUNDAY\t8.00\n",
    "SUNDAY\t9.00\n",
    "SUNDAY\t10.00\n",
    "SUNDAY\t11.00\n",
    "SUNDAY\t12.00\n",
    "SUNDAY\t13.00\n",
    "SUNDAY\t14.00\n",
    "SUNDAY\t15.00\n",
    "SUNDAY\t16.00\n",
    "SUNDAY\t17.00\n",
    "SUNDAY\t18.00\n",
    "SUNDAY\t19.00\n",
    "SUNDAY\t20.00\n",
    "SUNDAY\t21.00\n",
    "SUNDAY\t22.00\n",
    "SUNDAY\t23.00\n",
    "MONDAY\t0.00\n",
    "MODNAY\t1.00\n",
    "MONDAY\t2.00\n",
    "MODNAY\t3.00\n",
    "MONDAY\t4.00\n",
    "MODNAY\t5.00\n",
    "MONDAY\t6.00\n",
    "MODNAY\t7.00\n",
    "MONDAY\t8.00\n",
    "MODNAY\t9.00\n",
    "MONDAY\t10.00\n",
    "MODNAY\t11.00\n",
    "MONDAY\t12.00\n",
    "MODNAY\t13.00\n",
    "MONDAY\t14.00\n",
    "MODNAY\t15.00\n",
    "MONDAY\t16.00\n",
    "MODNAY\t17.00\n",
    "MONDAY\t18.00\n",
    "MODNAY\t19.00\n",
    "MONDAY\t20.00\n",
    "MODNAY\t21.00\n",
    "MONDAY\t22.00\n",
    "MODNAY\t23.00\n",
    "TUESDAY\t0.00\n",
    "TUESDAY\t1.00\n",
    "TUESDAY\t2.00\n",
    "TUESDAY\t3.00\n",
    "TUESDAY\t4.00\n",
    "TUESDAY\t5.00\n",
    "TUESDAY\t6.00\n"
   ]
  },
  {
   "cell_type": "code",
   "execution_count": null,
   "id": "c6724579-4878-46d9-95ec-7d81d85356b7",
   "metadata": {},
   "outputs": [],
   "source": []
  }
 ],
 "metadata": {
  "kernelspec": {
   "display_name": "Python 3",
   "language": "python",
   "name": "python3"
  },
  "language_info": {
   "codemirror_mode": {
    "name": "ipython",
    "version": 3
   },
   "file_extension": ".py",
   "mimetype": "text/x-python",
   "name": "python",
   "nbconvert_exporter": "python",
   "pygments_lexer": "ipython3",
   "version": "3.8.8"
  }
 },
 "nbformat": 4,
 "nbformat_minor": 5
}
